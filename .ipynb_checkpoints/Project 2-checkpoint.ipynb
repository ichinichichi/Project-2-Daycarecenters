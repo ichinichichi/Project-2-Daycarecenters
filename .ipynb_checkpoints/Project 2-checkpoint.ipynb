{
 "cells": [
  {
   "cell_type": "markdown",
   "id": "0df9bf1c",
   "metadata": {},
   "source": [
    "# Project 2: Analysis of Daycare Centers in Nuremberg"
   ]
  },
  {
   "cell_type": "markdown",
   "id": "b6303cae",
   "metadata": {},
   "source": [
    "## 0) Setup\n",
    "\n",
    "Import pandas and matplotlib"
   ]
  },
  {
   "cell_type": "code",
   "execution_count": 34,
   "id": "5e9de383",
   "metadata": {},
   "outputs": [],
   "source": [
    "import pandas as pd\n",
    "import matplotlib.pyplot as plt"
   ]
  },
  {
   "cell_type": "markdown",
   "id": "7dfbfefa",
   "metadata": {},
   "source": [
    "## 1) Reading in an Excel file"
   ]
  },
  {
   "cell_type": "code",
   "execution_count": 5,
   "id": "d175bf9a",
   "metadata": {},
   "outputs": [],
   "source": [
    "df = pd.read_excel(\"Tageseinrichtungen.xlsx\")"
   ]
  },
  {
   "cell_type": "markdown",
   "id": "4b0ef0e0",
   "metadata": {},
   "source": [
    "## 2) Checking your data"
   ]
  },
  {
   "cell_type": "code",
   "execution_count": 6,
   "id": "a7d21e66",
   "metadata": {},
   "outputs": [
    {
     "data": {
      "text/plain": [
       "(13, 32)"
      ]
     },
     "execution_count": 6,
     "metadata": {},
     "output_type": "execute_result"
    }
   ],
   "source": [
    "df.shape # number of rows and columns"
   ]
  },
  {
   "cell_type": "code",
   "execution_count": 7,
   "id": "4d0dd25a",
   "metadata": {
    "scrolled": true
   },
   "outputs": [
    {
     "data": {
      "text/plain": [
       "Jahr                                                                                                    int64\n",
       "Tageseinrichtungen für Kinder zusammen, Anzahl                                                          int64\n",
       "Tageseinrichtungen für Kinder im Alter von 0 bis unter 3 Jahren, Anzahl                                 int64\n",
       "Tageseinrichtungen für Kinder im Alter von 2 bis unter 8 Jahren (ohne Schulkinder), Anzahl              int64\n",
       "Tageseinrichtungen für Kinder im Alter von 5 bis unter 14 Jahren (nur Schulkinder), Anzahl              int64\n",
       "Tageseinrichtungen mit Kindern aller Altersgruppen, Anzahl                                              int64\n",
       "Tageseinrichtungen, genehmigte Plätze                                                                   int64\n",
       "Kinder in Tageseinrichtungen, insgesamt                                                                 int64\n",
       "Kinder in Tageseinrichtungen, männlich                                                                  int64\n",
       "Kinder in Tageseinrichtungen, weiblich                                                                  int64\n",
       "Kinder in Tageseinrichtungen mit Migrationshintergrund, insgesamt                                       int64\n",
       "Kinder in Tageseinrichtungen mit Migrationshintergrund, männlich                                        int64\n",
       "Kinder in Tageseinrichtungen mit Migrationshintergrund, weiblich                                        int64\n",
       "Schulkinder in Tageseinrichtungen, insgesamt                                                            int64\n",
       "Schulkinder in Tageseinrichtungen, männlich                                                             int64\n",
       "Schulkinder in Tageseinrichtungen, weiblich                                                             int64\n",
       "Kinder in Tageseinrichtungen in Gruppen für Kinder von 0 bis unter 3 Jahren                             int64\n",
       "Kinder in Tageseinrichtungen in Gruppen für Kinder von 2 bis unter 8 Jahren (ohne Schulkinder)          int64\n",
       "Kinder in Tageseinrichtungen in Gruppen für Kinder von 5 bis unter 14 Jahren (Schulkinder)              int64\n",
       "Kinder in Tageseinrichtungen in sonstigen altersgemischten Gruppen                                      int64\n",
       "Kinder in Tageseinrichtungen mit Betreuungszeiten unter 5 Stunden                                       int64\n",
       "Kinder in Tageseinrichtungen mit Betreuungszeiten von 5 Stunden bis zu 7 Stunden                        int64\n",
       "Kinder in Tageseinrichtungen mit Betreuungszeiten über 7 Stunden bis zu 10 Stunden                      int64\n",
       "Kinder in Tageseinrichtungen mit Betreuungszeiten über 10 Stunden                                       int64\n",
       "Kinder in Tageseinrichtungen mit Betreuungszeiten vor- und nachmittags ohne Mittagsbetreuung            int64\n",
       "Personal in Tageseinrichtungen, insgesamt                                                               int64\n",
       "Personal in Tageseinrichtungen, männlich                                                                int64\n",
       "Personal in Tageseinrichtungen, weiblich                                                                int64\n",
       "Personal in Tageseinrichtungen, darunter Päd. Personal mit Fachhochschul- oder Universitätsabschluss    int64\n",
       "Personal in Tageseinrichtungen, darunter Erzieher/-in                                                   int64\n",
       "Personal in Tageseinrichtungen, darunter Kinderpfleger/-in                                              int64\n",
       "Personal in Tageseinrichtungen, darunter Hauswirtschaftliches und technisches Personal                  int64\n",
       "dtype: object"
      ]
     },
     "execution_count": 7,
     "metadata": {},
     "output_type": "execute_result"
    }
   ],
   "source": [
    "df.dtypes #checking the datatypes"
   ]
  },
  {
   "cell_type": "markdown",
   "id": "c481d0af",
   "metadata": {},
   "source": [
    "After checking the datatype, I can see that all are integers and also all the column names. "
   ]
  },
  {
   "cell_type": "code",
   "execution_count": 10,
   "id": "91147e6d",
   "metadata": {},
   "outputs": [
    {
     "data": {
      "text/plain": [
       "Jahr                                                                                                    0\n",
       "Tageseinrichtungen für Kinder zusammen, Anzahl                                                          0\n",
       "Tageseinrichtungen für Kinder im Alter von 0 bis unter 3 Jahren, Anzahl                                 0\n",
       "Tageseinrichtungen für Kinder im Alter von 2 bis unter 8 Jahren (ohne Schulkinder), Anzahl              0\n",
       "Tageseinrichtungen für Kinder im Alter von 5 bis unter 14 Jahren (nur Schulkinder), Anzahl              0\n",
       "Tageseinrichtungen mit Kindern aller Altersgruppen, Anzahl                                              0\n",
       "Tageseinrichtungen, genehmigte Plätze                                                                   0\n",
       "Kinder in Tageseinrichtungen, insgesamt                                                                 0\n",
       "Kinder in Tageseinrichtungen, männlich                                                                  0\n",
       "Kinder in Tageseinrichtungen, weiblich                                                                  0\n",
       "Kinder in Tageseinrichtungen mit Migrationshintergrund, insgesamt                                       0\n",
       "Kinder in Tageseinrichtungen mit Migrationshintergrund, männlich                                        0\n",
       "Kinder in Tageseinrichtungen mit Migrationshintergrund, weiblich                                        0\n",
       "Schulkinder in Tageseinrichtungen, insgesamt                                                            0\n",
       "Schulkinder in Tageseinrichtungen, männlich                                                             0\n",
       "Schulkinder in Tageseinrichtungen, weiblich                                                             0\n",
       "Kinder in Tageseinrichtungen in Gruppen für Kinder von 0 bis unter 3 Jahren                             0\n",
       "Kinder in Tageseinrichtungen in Gruppen für Kinder von 2 bis unter 8 Jahren (ohne Schulkinder)          0\n",
       "Kinder in Tageseinrichtungen in Gruppen für Kinder von 5 bis unter 14 Jahren (Schulkinder)              0\n",
       "Kinder in Tageseinrichtungen in sonstigen altersgemischten Gruppen                                      0\n",
       "Kinder in Tageseinrichtungen mit Betreuungszeiten unter 5 Stunden                                       0\n",
       "Kinder in Tageseinrichtungen mit Betreuungszeiten von 5 Stunden bis zu 7 Stunden                        0\n",
       "Kinder in Tageseinrichtungen mit Betreuungszeiten über 7 Stunden bis zu 10 Stunden                      0\n",
       "Kinder in Tageseinrichtungen mit Betreuungszeiten über 10 Stunden                                       0\n",
       "Kinder in Tageseinrichtungen mit Betreuungszeiten vor- und nachmittags ohne Mittagsbetreuung            0\n",
       "Personal in Tageseinrichtungen, insgesamt                                                               0\n",
       "Personal in Tageseinrichtungen, männlich                                                                0\n",
       "Personal in Tageseinrichtungen, weiblich                                                                0\n",
       "Personal in Tageseinrichtungen, darunter Päd. Personal mit Fachhochschul- oder Universitätsabschluss    0\n",
       "Personal in Tageseinrichtungen, darunter Erzieher/-in                                                   0\n",
       "Personal in Tageseinrichtungen, darunter Kinderpfleger/-in                                              0\n",
       "Personal in Tageseinrichtungen, darunter Hauswirtschaftliches und technisches Personal                  0\n",
       "dtype: int64"
      ]
     },
     "execution_count": 10,
     "metadata": {},
     "output_type": "execute_result"
    }
   ],
   "source": [
    "df.isna().sum()"
   ]
  },
  {
   "cell_type": "markdown",
   "id": "d6f55498",
   "metadata": {},
   "source": [
    "There are no missing values in the columns."
   ]
  },
  {
   "cell_type": "markdown",
   "id": "f72c26db",
   "metadata": {},
   "source": [
    "## 3) Development of day care centers between different ages"
   ]
  },
  {
   "cell_type": "code",
   "execution_count": 27,
   "id": "e9f21393",
   "metadata": {},
   "outputs": [
    {
     "data": {
      "text/html": [
       "<div>\n",
       "<style scoped>\n",
       "    .dataframe tbody tr th:only-of-type {\n",
       "        vertical-align: middle;\n",
       "    }\n",
       "\n",
       "    .dataframe tbody tr th {\n",
       "        vertical-align: top;\n",
       "    }\n",
       "\n",
       "    .dataframe thead th {\n",
       "        text-align: right;\n",
       "    }\n",
       "</style>\n",
       "<table border=\"1\" class=\"dataframe\">\n",
       "  <thead>\n",
       "    <tr style=\"text-align: right;\">\n",
       "      <th></th>\n",
       "      <th>Jahr</th>\n",
       "      <th>Tageseinrichtungen für Kinder zusammen, Anzahl</th>\n",
       "      <th>Tageseinrichtungen für Kinder im Alter von 0 bis unter 3 Jahren, Anzahl</th>\n",
       "      <th>Tageseinrichtungen für Kinder im Alter von 2 bis unter 8 Jahren (ohne Schulkinder), Anzahl</th>\n",
       "      <th>Tageseinrichtungen für Kinder im Alter von 5 bis unter 14 Jahren (nur Schulkinder), Anzahl</th>\n",
       "      <th>Tageseinrichtungen mit Kindern aller Altersgruppen, Anzahl</th>\n",
       "    </tr>\n",
       "  </thead>\n",
       "  <tbody>\n",
       "    <tr>\n",
       "      <th>0</th>\n",
       "      <td>2008</td>\n",
       "      <td>374</td>\n",
       "      <td>17</td>\n",
       "      <td>179</td>\n",
       "      <td>82</td>\n",
       "      <td>96</td>\n",
       "    </tr>\n",
       "    <tr>\n",
       "      <th>1</th>\n",
       "      <td>2009</td>\n",
       "      <td>392</td>\n",
       "      <td>23</td>\n",
       "      <td>190</td>\n",
       "      <td>82</td>\n",
       "      <td>97</td>\n",
       "    </tr>\n",
       "    <tr>\n",
       "      <th>2</th>\n",
       "      <td>2010</td>\n",
       "      <td>403</td>\n",
       "      <td>31</td>\n",
       "      <td>181</td>\n",
       "      <td>86</td>\n",
       "      <td>105</td>\n",
       "    </tr>\n",
       "    <tr>\n",
       "      <th>3</th>\n",
       "      <td>2011</td>\n",
       "      <td>411</td>\n",
       "      <td>26</td>\n",
       "      <td>183</td>\n",
       "      <td>90</td>\n",
       "      <td>112</td>\n",
       "    </tr>\n",
       "    <tr>\n",
       "      <th>4</th>\n",
       "      <td>2012</td>\n",
       "      <td>420</td>\n",
       "      <td>26</td>\n",
       "      <td>190</td>\n",
       "      <td>92</td>\n",
       "      <td>112</td>\n",
       "    </tr>\n",
       "    <tr>\n",
       "      <th>5</th>\n",
       "      <td>2013</td>\n",
       "      <td>425</td>\n",
       "      <td>22</td>\n",
       "      <td>177</td>\n",
       "      <td>92</td>\n",
       "      <td>134</td>\n",
       "    </tr>\n",
       "    <tr>\n",
       "      <th>6</th>\n",
       "      <td>2014</td>\n",
       "      <td>454</td>\n",
       "      <td>34</td>\n",
       "      <td>162</td>\n",
       "      <td>95</td>\n",
       "      <td>163</td>\n",
       "    </tr>\n",
       "    <tr>\n",
       "      <th>7</th>\n",
       "      <td>2015</td>\n",
       "      <td>467</td>\n",
       "      <td>28</td>\n",
       "      <td>159</td>\n",
       "      <td>93</td>\n",
       "      <td>187</td>\n",
       "    </tr>\n",
       "    <tr>\n",
       "      <th>8</th>\n",
       "      <td>2016</td>\n",
       "      <td>482</td>\n",
       "      <td>26</td>\n",
       "      <td>160</td>\n",
       "      <td>99</td>\n",
       "      <td>197</td>\n",
       "    </tr>\n",
       "    <tr>\n",
       "      <th>9</th>\n",
       "      <td>2017</td>\n",
       "      <td>479</td>\n",
       "      <td>17</td>\n",
       "      <td>158</td>\n",
       "      <td>98</td>\n",
       "      <td>206</td>\n",
       "    </tr>\n",
       "    <tr>\n",
       "      <th>10</th>\n",
       "      <td>2018</td>\n",
       "      <td>478</td>\n",
       "      <td>22</td>\n",
       "      <td>151</td>\n",
       "      <td>97</td>\n",
       "      <td>208</td>\n",
       "    </tr>\n",
       "    <tr>\n",
       "      <th>11</th>\n",
       "      <td>2019</td>\n",
       "      <td>477</td>\n",
       "      <td>18</td>\n",
       "      <td>153</td>\n",
       "      <td>92</td>\n",
       "      <td>214</td>\n",
       "    </tr>\n",
       "    <tr>\n",
       "      <th>12</th>\n",
       "      <td>2020</td>\n",
       "      <td>471</td>\n",
       "      <td>19</td>\n",
       "      <td>148</td>\n",
       "      <td>86</td>\n",
       "      <td>218</td>\n",
       "    </tr>\n",
       "  </tbody>\n",
       "</table>\n",
       "</div>"
      ],
      "text/plain": [
       "    Jahr  Tageseinrichtungen für Kinder zusammen, Anzahl  \\\n",
       "0   2008                                             374   \n",
       "1   2009                                             392   \n",
       "2   2010                                             403   \n",
       "3   2011                                             411   \n",
       "4   2012                                             420   \n",
       "5   2013                                             425   \n",
       "6   2014                                             454   \n",
       "7   2015                                             467   \n",
       "8   2016                                             482   \n",
       "9   2017                                             479   \n",
       "10  2018                                             478   \n",
       "11  2019                                             477   \n",
       "12  2020                                             471   \n",
       "\n",
       "    Tageseinrichtungen für Kinder im Alter von 0 bis unter 3 Jahren, Anzahl  \\\n",
       "0                                                  17                         \n",
       "1                                                  23                         \n",
       "2                                                  31                         \n",
       "3                                                  26                         \n",
       "4                                                  26                         \n",
       "5                                                  22                         \n",
       "6                                                  34                         \n",
       "7                                                  28                         \n",
       "8                                                  26                         \n",
       "9                                                  17                         \n",
       "10                                                 22                         \n",
       "11                                                 18                         \n",
       "12                                                 19                         \n",
       "\n",
       "    Tageseinrichtungen für Kinder im Alter von 2 bis unter 8 Jahren (ohne Schulkinder), Anzahl  \\\n",
       "0                                                 179                                            \n",
       "1                                                 190                                            \n",
       "2                                                 181                                            \n",
       "3                                                 183                                            \n",
       "4                                                 190                                            \n",
       "5                                                 177                                            \n",
       "6                                                 162                                            \n",
       "7                                                 159                                            \n",
       "8                                                 160                                            \n",
       "9                                                 158                                            \n",
       "10                                                151                                            \n",
       "11                                                153                                            \n",
       "12                                                148                                            \n",
       "\n",
       "    Tageseinrichtungen für Kinder im Alter von 5 bis unter 14 Jahren (nur Schulkinder), Anzahl  \\\n",
       "0                                                  82                                            \n",
       "1                                                  82                                            \n",
       "2                                                  86                                            \n",
       "3                                                  90                                            \n",
       "4                                                  92                                            \n",
       "5                                                  92                                            \n",
       "6                                                  95                                            \n",
       "7                                                  93                                            \n",
       "8                                                  99                                            \n",
       "9                                                  98                                            \n",
       "10                                                 97                                            \n",
       "11                                                 92                                            \n",
       "12                                                 86                                            \n",
       "\n",
       "    Tageseinrichtungen mit Kindern aller Altersgruppen, Anzahl  \n",
       "0                                                  96           \n",
       "1                                                  97           \n",
       "2                                                 105           \n",
       "3                                                 112           \n",
       "4                                                 112           \n",
       "5                                                 134           \n",
       "6                                                 163           \n",
       "7                                                 187           \n",
       "8                                                 197           \n",
       "9                                                 206           \n",
       "10                                                208           \n",
       "11                                                214           \n",
       "12                                                218           "
      ]
     },
     "execution_count": 27,
     "metadata": {},
     "output_type": "execute_result"
    }
   ],
   "source": [
    "q1 = df[df.columns[[0,1,2,3,4,5]]]\n",
    "q1"
   ]
  },
  {
   "cell_type": "code",
   "execution_count": 36,
   "id": "9fdc72be",
   "metadata": {},
   "outputs": [],
   "source": [
    "year= q1['Jahr']"
   ]
  },
  {
   "cell_type": "code",
   "execution_count": 31,
   "id": "552bc282",
   "metadata": {},
   "outputs": [
    {
     "data": {
      "text/html": [
       "<div>\n",
       "<style scoped>\n",
       "    .dataframe tbody tr th:only-of-type {\n",
       "        vertical-align: middle;\n",
       "    }\n",
       "\n",
       "    .dataframe tbody tr th {\n",
       "        vertical-align: top;\n",
       "    }\n",
       "\n",
       "    .dataframe thead th {\n",
       "        text-align: right;\n",
       "    }\n",
       "</style>\n",
       "<table border=\"1\" class=\"dataframe\">\n",
       "  <thead>\n",
       "    <tr style=\"text-align: right;\">\n",
       "      <th></th>\n",
       "      <th>Tageseinrichtungen für Kinder zusammen, Anzahl</th>\n",
       "    </tr>\n",
       "  </thead>\n",
       "  <tbody>\n",
       "    <tr>\n",
       "      <th>0</th>\n",
       "      <td>374</td>\n",
       "    </tr>\n",
       "    <tr>\n",
       "      <th>1</th>\n",
       "      <td>392</td>\n",
       "    </tr>\n",
       "    <tr>\n",
       "      <th>2</th>\n",
       "      <td>403</td>\n",
       "    </tr>\n",
       "    <tr>\n",
       "      <th>3</th>\n",
       "      <td>411</td>\n",
       "    </tr>\n",
       "    <tr>\n",
       "      <th>4</th>\n",
       "      <td>420</td>\n",
       "    </tr>\n",
       "    <tr>\n",
       "      <th>5</th>\n",
       "      <td>425</td>\n",
       "    </tr>\n",
       "    <tr>\n",
       "      <th>6</th>\n",
       "      <td>454</td>\n",
       "    </tr>\n",
       "    <tr>\n",
       "      <th>7</th>\n",
       "      <td>467</td>\n",
       "    </tr>\n",
       "    <tr>\n",
       "      <th>8</th>\n",
       "      <td>482</td>\n",
       "    </tr>\n",
       "    <tr>\n",
       "      <th>9</th>\n",
       "      <td>479</td>\n",
       "    </tr>\n",
       "    <tr>\n",
       "      <th>10</th>\n",
       "      <td>478</td>\n",
       "    </tr>\n",
       "    <tr>\n",
       "      <th>11</th>\n",
       "      <td>477</td>\n",
       "    </tr>\n",
       "    <tr>\n",
       "      <th>12</th>\n",
       "      <td>471</td>\n",
       "    </tr>\n",
       "  </tbody>\n",
       "</table>\n",
       "</div>"
      ],
      "text/plain": [
       "    Tageseinrichtungen für Kinder zusammen, Anzahl\n",
       "0                                              374\n",
       "1                                              392\n",
       "2                                              403\n",
       "3                                              411\n",
       "4                                              420\n",
       "5                                              425\n",
       "6                                              454\n",
       "7                                              467\n",
       "8                                              482\n",
       "9                                              479\n",
       "10                                             478\n",
       "11                                             477\n",
       "12                                             471"
      ]
     },
     "execution_count": 31,
     "metadata": {},
     "output_type": "execute_result"
    }
   ],
   "source": [
    "q1[q1.columns[[1]]]"
   ]
  },
  {
   "cell_type": "code",
   "execution_count": 52,
   "id": "fc0056b8",
   "metadata": {},
   "outputs": [
    {
     "data": {
      "image/png": "[encoded data removed]",
      "text/plain": [
       "<Figure size 432x288 with 1 Axes>"
      ]
     },
     "metadata": {
      "needs_background": "light"
     },
     "output_type": "display_data"
    }
   ],
   "source": [
    "plt.plot(year, q1[q1.columns[[1]]], label = \"Tageseinrichtungen für Kinder zusammen\")\n",
    "plt.plot(year, q1[q1.columns[[2]]], label = \"Tageseinrichtungen für Kinder im Alter von 0 bis unter 3 Jahren\",linestyle=\"-.\")\n",
    "plt.plot(year, q1[q1.columns[[3]]], label = \"Tageseinrichtungen für Kinder im Alter von 2 bis unter 8 Jahren (ohne Schulkinder)\",linestyle=\"-.\")\n",
    "plt.plot(year, q1[q1.columns[[4]]], label = \"Tageseinrichtungen für Kinder im Alter von 5 bis unter 14 Jahren (nur Schulkinder)\",linestyle=\"-.\")\n",
    "plt.plot(year, q1[q1.columns[[5]]], label = \"Tageseinrichtungen mit Kindern aller Altersgruppen\",linestyle=\"-.\")\n",
    "plt.legend(prop={'size': 12},loc='upper left',bbox_to_anchor=(1, 0.5))\n",
    "plt.title(\"Tageseinrichtungen in Nürnberg\")\n",
    "plt.xlabel(\"Jahre\")\n",
    "plt.ylabel(\"Anzahl\")\n",
    "plt.show()"
   ]
  },
  {
   "cell_type": "markdown",
   "id": "1cdaa957",
   "metadata": {},
   "source": [
    "Starting 2013 there has been a trend to open up more day-care centers for all age groups. The most day care centers were for children aged 2 until 8. However there has been a slight fall in around 2013."
   ]
  },
  {
   "cell_type": "markdown",
   "id": "77db7173",
   "metadata": {},
   "source": [
    "## 4) Free slots in daycare centers each year"
   ]
  },
  {
   "cell_type": "code",
   "execution_count": 76,
   "id": "5f462b5f",
   "metadata": {},
   "outputs": [
    {
     "name": "stderr",
     "output_type": "stream",
     "text": [
      "<ipython-input-76-725a15b3ce09>:2: SettingWithCopyWarning: \n",
      "A value is trying to be set on a copy of a slice from a DataFrame.\n",
      "Try using .loc[row_indexer,col_indexer] = value instead\n",
      "\n",
      "See the caveats in the documentation: https://pandas.pydata.org/pandas-docs/stable/user_guide/indexing.html#returning-a-view-versus-a-copy\n",
      "  q2[\"Nicht genommene Plätze\"]= q2[q2.columns[0]]-q2[q2.columns[1]]\n"
     ]
    },
    {
     "data": {
      "text/html": [
       "<div>\n",
       "<style scoped>\n",
       "    .dataframe tbody tr th:only-of-type {\n",
       "        vertical-align: middle;\n",
       "    }\n",
       "\n",
       "    .dataframe tbody tr th {\n",
       "        vertical-align: top;\n",
       "    }\n",
       "\n",
       "    .dataframe thead th {\n",
       "        text-align: right;\n",
       "    }\n",
       "</style>\n",
       "<table border=\"1\" class=\"dataframe\">\n",
       "  <thead>\n",
       "    <tr style=\"text-align: right;\">\n",
       "      <th></th>\n",
       "      <th>Tageseinrichtungen, genehmigte Plätze</th>\n",
       "      <th>Kinder in Tageseinrichtungen, insgesamt</th>\n",
       "      <th>Nicht genommene Plätze</th>\n",
       "    </tr>\n",
       "  </thead>\n",
       "  <tbody>\n",
       "    <tr>\n",
       "      <th>0</th>\n",
       "      <td>18430</td>\n",
       "      <td>17995</td>\n",
       "      <td>435</td>\n",
       "    </tr>\n",
       "    <tr>\n",
       "      <th>1</th>\n",
       "      <td>19017</td>\n",
       "      <td>18458</td>\n",
       "      <td>559</td>\n",
       "    </tr>\n",
       "    <tr>\n",
       "      <th>2</th>\n",
       "      <td>19621</td>\n",
       "      <td>19076</td>\n",
       "      <td>545</td>\n",
       "    </tr>\n",
       "    <tr>\n",
       "      <th>3</th>\n",
       "      <td>20677</td>\n",
       "      <td>20048</td>\n",
       "      <td>629</td>\n",
       "    </tr>\n",
       "    <tr>\n",
       "      <th>4</th>\n",
       "      <td>21198</td>\n",
       "      <td>20647</td>\n",
       "      <td>551</td>\n",
       "    </tr>\n",
       "    <tr>\n",
       "      <th>5</th>\n",
       "      <td>22252</td>\n",
       "      <td>21572</td>\n",
       "      <td>680</td>\n",
       "    </tr>\n",
       "    <tr>\n",
       "      <th>6</th>\n",
       "      <td>23947</td>\n",
       "      <td>22859</td>\n",
       "      <td>1088</td>\n",
       "    </tr>\n",
       "    <tr>\n",
       "      <th>7</th>\n",
       "      <td>25277</td>\n",
       "      <td>24107</td>\n",
       "      <td>1170</td>\n",
       "    </tr>\n",
       "    <tr>\n",
       "      <th>8</th>\n",
       "      <td>26500</td>\n",
       "      <td>25133</td>\n",
       "      <td>1367</td>\n",
       "    </tr>\n",
       "    <tr>\n",
       "      <th>9</th>\n",
       "      <td>27183</td>\n",
       "      <td>26001</td>\n",
       "      <td>1182</td>\n",
       "    </tr>\n",
       "    <tr>\n",
       "      <th>10</th>\n",
       "      <td>27832</td>\n",
       "      <td>26476</td>\n",
       "      <td>1356</td>\n",
       "    </tr>\n",
       "    <tr>\n",
       "      <th>11</th>\n",
       "      <td>28140</td>\n",
       "      <td>26865</td>\n",
       "      <td>1275</td>\n",
       "    </tr>\n",
       "    <tr>\n",
       "      <th>12</th>\n",
       "      <td>28682</td>\n",
       "      <td>27486</td>\n",
       "      <td>1196</td>\n",
       "    </tr>\n",
       "  </tbody>\n",
       "</table>\n",
       "</div>"
      ],
      "text/plain": [
       "    Tageseinrichtungen, genehmigte Plätze  \\\n",
       "0                                   18430   \n",
       "1                                   19017   \n",
       "2                                   19621   \n",
       "3                                   20677   \n",
       "4                                   21198   \n",
       "5                                   22252   \n",
       "6                                   23947   \n",
       "7                                   25277   \n",
       "8                                   26500   \n",
       "9                                   27183   \n",
       "10                                  27832   \n",
       "11                                  28140   \n",
       "12                                  28682   \n",
       "\n",
       "    Kinder in Tageseinrichtungen, insgesamt  Nicht genommene Plätze  \n",
       "0                                     17995                     435  \n",
       "1                                     18458                     559  \n",
       "2                                     19076                     545  \n",
       "3                                     20048                     629  \n",
       "4                                     20647                     551  \n",
       "5                                     21572                     680  \n",
       "6                                     22859                    1088  \n",
       "7                                     24107                    1170  \n",
       "8                                     25133                    1367  \n",
       "9                                     26001                    1182  \n",
       "10                                    26476                    1356  \n",
       "11                                    26865                    1275  \n",
       "12                                    27486                    1196  "
      ]
     },
     "execution_count": 76,
     "metadata": {},
     "output_type": "execute_result"
    }
   ],
   "source": [
    "q2 = df[df.columns[[6,7]]]\n",
    "q2[\"Nicht genommene Plätze\"]= q2[q2.columns[0]]-q2[q2.columns[1]]\n",
    "q2"
   ]
  },
  {
   "cell_type": "code",
   "execution_count": 79,
   "id": "d5bed624",
   "metadata": {},
   "outputs": [
    {
     "data": {
      "image/png": "[encoded data removed]",
      "text/plain": [
       "<Figure size 432x288 with 1 Axes>"
      ]
     },
     "metadata": {
      "needs_background": "light"
     },
     "output_type": "display_data"
    }
   ],
   "source": [
    "plt.plot(year, q2[q2.columns[[2]]], label = \"Nicht genommene Plätze\")\n",
    "plt.plot(year, q2[q2.columns[[1]]], label = \"Kinder in Tageseinrichtungen, insgesamt\",linestyle=\"-.\")\n",
    "plt.plot(year, q2[q2.columns[[0]]], label = \"Tageseinrichtungen, genehmigte Plätze\",linestyle=\"-.\")\n",
    "plt.legend(prop={'size': 12},loc='upper left',bbox_to_anchor=(1, 0.5))\n",
    "plt.title(\"Die Anzahl nicht angenommener Tageseinrichtungen steigt jedes Jahr\")\n",
    "plt.xlabel(\"Jahre\")\n",
    "plt.ylabel(\"Anzahl\")\n",
    "plt.show()"
   ]
  },
  {
   "cell_type": "markdown",
   "id": "2c1838a0",
   "metadata": {},
   "source": [
    "## 5) Children with a migration background"
   ]
  },
  {
   "cell_type": "code",
   "execution_count": 84,
   "id": "11811acc",
   "metadata": {},
   "outputs": [
    {
     "data": {
      "text/html": [
       "<div>\n",
       "<style scoped>\n",
       "    .dataframe tbody tr th:only-of-type {\n",
       "        vertical-align: middle;\n",
       "    }\n",
       "\n",
       "    .dataframe tbody tr th {\n",
       "        vertical-align: top;\n",
       "    }\n",
       "\n",
       "    .dataframe thead th {\n",
       "        text-align: right;\n",
       "    }\n",
       "</style>\n",
       "<table border=\"1\" class=\"dataframe\">\n",
       "  <thead>\n",
       "    <tr style=\"text-align: right;\">\n",
       "      <th></th>\n",
       "      <th>Jahr</th>\n",
       "      <th>Kinder in Tageseinrichtungen, insgesamt</th>\n",
       "      <th>Kinder in Tageseinrichtungen, männlich</th>\n",
       "      <th>Kinder in Tageseinrichtungen, weiblich</th>\n",
       "      <th>Kinder in Tageseinrichtungen mit Migrationshintergrund, insgesamt</th>\n",
       "      <th>Kinder in Tageseinrichtungen mit Migrationshintergrund, männlich</th>\n",
       "      <th>Kinder in Tageseinrichtungen mit Migrationshintergrund, weiblich</th>\n",
       "    </tr>\n",
       "  </thead>\n",
       "  <tbody>\n",
       "    <tr>\n",
       "      <th>12</th>\n",
       "      <td>2020</td>\n",
       "      <td>27486</td>\n",
       "      <td>14145</td>\n",
       "      <td>13341</td>\n",
       "      <td>15281</td>\n",
       "      <td>7898</td>\n",
       "      <td>7383</td>\n",
       "    </tr>\n",
       "  </tbody>\n",
       "</table>\n",
       "</div>"
      ],
      "text/plain": [
       "    Jahr  Kinder in Tageseinrichtungen, insgesamt  \\\n",
       "12  2020                                    27486   \n",
       "\n",
       "    Kinder in Tageseinrichtungen, männlich  \\\n",
       "12                                   14145   \n",
       "\n",
       "    Kinder in Tageseinrichtungen, weiblich  \\\n",
       "12                                   13341   \n",
       "\n",
       "    Kinder in Tageseinrichtungen mit Migrationshintergrund, insgesamt  \\\n",
       "12                                              15281                   \n",
       "\n",
       "    Kinder in Tageseinrichtungen mit Migrationshintergrund, männlich  \\\n",
       "12                                               7898                  \n",
       "\n",
       "    Kinder in Tageseinrichtungen mit Migrationshintergrund, weiblich  \n",
       "12                                               7383                 "
      ]
     },
     "execution_count": 84,
     "metadata": {},
     "output_type": "execute_result"
    }
   ],
   "source": [
    "q3 = df[df.columns[[0,7,8,9,10,11,12]]]\n",
    "q3[q3.Jahr==2020]"
   ]
  },
  {
   "cell_type": "code",
   "execution_count": 110,
   "id": "ada143d4",
   "metadata": {},
   "outputs": [
    {
     "name": "stderr",
     "output_type": "stream",
     "text": [
      "<ipython-input-110-a594e613120d>:1: SettingWithCopyWarning: \n",
      "A value is trying to be set on a copy of a slice from a DataFrame.\n",
      "Try using .loc[row_indexer,col_indexer] = value instead\n",
      "\n",
      "See the caveats in the documentation: https://pandas.pydata.org/pandas-docs/stable/user_guide/indexing.html#returning-a-view-versus-a-copy\n",
      "  q3[\"Kinder in Tageseinrichtungen ohne Migrationshintergrund, männlich\"]= q3[q3.columns[2]]-q3[q3.columns[5]]\n"
     ]
    }
   ],
   "source": [
    "q3[\"Kinder in Tageseinrichtungen ohne Migrationshintergrund, männlich\"]= q3[q3.columns[2]]-q3[q3.columns[5]]"
   ]
  },
  {
   "cell_type": "code",
   "execution_count": 111,
   "id": "16f87163",
   "metadata": {},
   "outputs": [
    {
     "name": "stderr",
     "output_type": "stream",
     "text": [
      "<ipython-input-111-ec071224d07f>:1: SettingWithCopyWarning: \n",
      "A value is trying to be set on a copy of a slice from a DataFrame.\n",
      "Try using .loc[row_indexer,col_indexer] = value instead\n",
      "\n",
      "See the caveats in the documentation: https://pandas.pydata.org/pandas-docs/stable/user_guide/indexing.html#returning-a-view-versus-a-copy\n",
      "  q3[\"Kinder in Tageseinrichtungen ohne Migrationshintergrund, weiblich\"]= q3[q3.columns[3]]-q3[q3.columns[6]]\n"
     ]
    }
   ],
   "source": [
    "q3[\"Kinder in Tageseinrichtungen ohne Migrationshintergrund, weiblich\"]= q3[q3.columns[3]]-q3[q3.columns[6]]"
   ]
  },
  {
   "cell_type": "code",
   "execution_count": 130,
   "id": "80cff169",
   "metadata": {},
   "outputs": [
    {
     "data": {
      "text/html": [
       "<div>\n",
       "<style scoped>\n",
       "    .dataframe tbody tr th:only-of-type {\n",
       "        vertical-align: middle;\n",
       "    }\n",
       "\n",
       "    .dataframe tbody tr th {\n",
       "        vertical-align: top;\n",
       "    }\n",
       "\n",
       "    .dataframe thead th {\n",
       "        text-align: right;\n",
       "    }\n",
       "</style>\n",
       "<table border=\"1\" class=\"dataframe\">\n",
       "  <thead>\n",
       "    <tr style=\"text-align: right;\">\n",
       "      <th></th>\n",
       "      <th>Kinder in Tageseinrichtungen ohne Migrationshintergrund, weiblich</th>\n",
       "      <th>Kinder in Tageseinrichtungen ohne Migrationshintergrund, männlich</th>\n",
       "      <th>Kinder in Tageseinrichtungen mit Migrationshintergrund, weiblich</th>\n",
       "      <th>Kinder in Tageseinrichtungen mit Migrationshintergrund, männlich</th>\n",
       "    </tr>\n",
       "  </thead>\n",
       "  <tbody>\n",
       "    <tr>\n",
       "      <th>12</th>\n",
       "      <td>5958</td>\n",
       "      <td>6247</td>\n",
       "      <td>7383</td>\n",
       "      <td>7898</td>\n",
       "    </tr>\n",
       "  </tbody>\n",
       "</table>\n",
       "</div>"
      ],
      "text/plain": [
       "    Kinder in Tageseinrichtungen ohne Migrationshintergrund, weiblich  \\\n",
       "12                                               5958                   \n",
       "\n",
       "    Kinder in Tageseinrichtungen ohne Migrationshintergrund, männlich  \\\n",
       "12                                               6247                   \n",
       "\n",
       "    Kinder in Tageseinrichtungen mit Migrationshintergrund, weiblich  \\\n",
       "12                                               7383                  \n",
       "\n",
       "    Kinder in Tageseinrichtungen mit Migrationshintergrund, männlich  \n",
       "12                                               7898                 "
      ]
     },
     "execution_count": 130,
     "metadata": {},
     "output_type": "execute_result"
    }
   ],
   "source": [
    "migration2020= q3[q3.Jahr==2020][q3.columns[[-1,-2,-3,-4]]]\n",
    "migration2020"
   ]
  },
  {
   "cell_type": "code",
   "execution_count": 139,
   "id": "9c9136c1",
   "metadata": {},
   "outputs": [
    {
     "data": {
      "image/png": "[encoded data removed]",
      "text/plain": [
       "<Figure size 432x288 with 1 Axes>"
      ]
     },
     "metadata": {},
     "output_type": "display_data"
    }
   ],
   "source": [
    "\n",
    "explode = (0, 0, 0, 0.1) \n",
    "labels = 'Kinder in Tageseinrichtungen ohne Migrationshintergrund, weiblich', 'Kinder in Tageseinrichtungen ohne Migrationshintergrund, männlich', 'Kinder in Tageseinrichtungen mit Migrationshintergrund, weiblich', 'Kinder in Tageseinrichtungen mit Migrationshintergrund, männlich'\n",
    "sizes = [5958, 6247, 7383, 7898]\n",
    "\n",
    "fig1, ax1 = plt.subplots()\n",
    "ax1.pie(sizes, explode=explode, labels=labels, autopct='%1.1f%%',\n",
    "        shadow=True, startangle=90)\n",
    "ax1.axis('equal')  # Equal aspect ratio ensures that pie is drawn as a circle.\n",
    "plt.title(\"Composition of all the kids in day car by gender and migration background 2020\")\n",
    "plt.show()"
   ]
  },
  {
   "cell_type": "code",
   "execution_count": 137,
   "id": "84d05739",
   "metadata": {},
   "outputs": [
    {
     "data": {
      "text/html": [
       "<div>\n",
       "<style scoped>\n",
       "    .dataframe tbody tr th:only-of-type {\n",
       "        vertical-align: middle;\n",
       "    }\n",
       "\n",
       "    .dataframe tbody tr th {\n",
       "        vertical-align: top;\n",
       "    }\n",
       "\n",
       "    .dataframe thead th {\n",
       "        text-align: right;\n",
       "    }\n",
       "</style>\n",
       "<table border=\"1\" class=\"dataframe\">\n",
       "  <thead>\n",
       "    <tr style=\"text-align: right;\">\n",
       "      <th></th>\n",
       "      <th>Kinder in Tageseinrichtungen ohne Migrationshintergrund, weiblich</th>\n",
       "      <th>Kinder in Tageseinrichtungen ohne Migrationshintergrund, männlich</th>\n",
       "      <th>Kinder in Tageseinrichtungen mit Migrationshintergrund, weiblich</th>\n",
       "      <th>Kinder in Tageseinrichtungen mit Migrationshintergrund, männlich</th>\n",
       "    </tr>\n",
       "  </thead>\n",
       "  <tbody>\n",
       "    <tr>\n",
       "      <th>0</th>\n",
       "      <td>4085</td>\n",
       "      <td>4269</td>\n",
       "      <td>4684</td>\n",
       "      <td>4957</td>\n",
       "    </tr>\n",
       "  </tbody>\n",
       "</table>\n",
       "</div>"
      ],
      "text/plain": [
       "   Kinder in Tageseinrichtungen ohne Migrationshintergrund, weiblich  \\\n",
       "0                                               4085                   \n",
       "\n",
       "   Kinder in Tageseinrichtungen ohne Migrationshintergrund, männlich  \\\n",
       "0                                               4269                   \n",
       "\n",
       "   Kinder in Tageseinrichtungen mit Migrationshintergrund, weiblich  \\\n",
       "0                                               4684                  \n",
       "\n",
       "   Kinder in Tageseinrichtungen mit Migrationshintergrund, männlich  \n",
       "0                                               4957                 "
      ]
     },
     "execution_count": 137,
     "metadata": {},
     "output_type": "execute_result"
    }
   ],
   "source": [
    "migration2008= q3[q3.Jahr==2008][q3.columns[[-1,-2,-3,-4]]]\n",
    "migration2008"
   ]
  },
  {
   "cell_type": "code",
   "execution_count": 140,
   "id": "5c91375f",
   "metadata": {},
   "outputs": [
    {
     "data": {
      "image/png": "[encoded data removed]",
      "text/plain": [
       "<Figure size 432x288 with 1 Axes>"
      ]
     },
     "metadata": {},
     "output_type": "display_data"
    }
   ],
   "source": [
    "\n",
    "explode = (0, 0, 0, 0.1) \n",
    "labels = 'Kinder in Tageseinrichtungen ohne Migrationshintergrund, weiblich', 'Kinder in Tageseinrichtungen ohne Migrationshintergrund, männlich', 'Kinder in Tageseinrichtungen mit Migrationshintergrund, weiblich', 'Kinder in Tageseinrichtungen mit Migrationshintergrund, männlich'\n",
    "sizes = [4085, 4269, 4684, 4957]\n",
    "\n",
    "fig1, ax1 = plt.subplots()\n",
    "ax1.pie(sizes, explode=explode, labels=labels, autopct='%1.1f%%',\n",
    "        shadow=True, startangle=90)\n",
    "ax1.axis('equal')  # Equal aspect ratio ensures that pie is drawn as a circle.\n",
    "plt.title(\"Composition of all the kids in day car by gender and migration background 2008\")\n",
    "plt.show()"
   ]
  }
 ],
 "metadata": {
  "kernelspec": {
   "display_name": "Python 3",
   "language": "python",
   "name": "python3"
  },
  "language_info": {
   "codemirror_mode": {
    "name": "ipython",
    "version": 3
   },
   "file_extension": ".py",
   "mimetype": "text/x-python",
   "name": "python",
   "nbconvert_exporter": "python",
   "pygments_lexer": "ipython3",
   "version": "3.8.6"
  }
 },
 "nbformat": 4,
 "nbformat_minor": 5
}
